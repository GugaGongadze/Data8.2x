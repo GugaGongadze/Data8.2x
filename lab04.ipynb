{
 "cells": [
  {
   "cell_type": "markdown",
   "metadata": {},
   "source": [
    "# Lab 4: Inference and Capital Punishment, Part 2\n",
    "\n",
    "Welcome to Lab 4! This week, we will continue to investigate the relationship between murder rates and capital punishment in the United States. Please complete Lab 3 before starting Lab 4.\n",
    "\n",
    "By the end of this lab, you should know how to:\n",
    "\n",
    "1. Test whether observed data appears to be a random sample from a distribution.\n",
    "2. Analyze a natural experiment.\n",
    "3. Implement and interpret a sign test.\n",
    "4. Create a function to run a general hypothesis test.\n",
    "5. Analyze visualizations and draw conclusions from them.\n",
    "\n",
    "All of the concepts necessary for this project are found in the [Inferential Thinking textbook](https://www.inferentialthinking.com/). If you are stuck on a particular problem, reading through the relevant textbook section often will help clarify the concept. \n",
    "\n",
    "To get started, load `datascience`, `numpy`, `plots`, and `okgrade`."
   ]
  },
  {
   "cell_type": "code",
   "execution_count": 1,
   "metadata": {},
   "outputs": [],
   "source": [
    "from datascience import *\n",
    "import numpy as np\n",
    "\n",
    "%matplotlib inline\n",
    "import matplotlib.pyplot as plots\n",
    "plots.style.use('fivethirtyeight')\n",
    "\n",
    "from okgrade import grade"
   ]
  },
  {
   "cell_type": "markdown",
   "metadata": {},
   "source": [
    "## Overview: Recap\n",
    "\n",
    "In the United States, some jurisdictions execute some people who are convicted of particularly serious crimes, such as murder.  This punishment is called the *death penalty* or *capital punishment*.  The death penalty is controversial, and deterrence has been one focal point of the debate.  There are other reasons to support or oppose the death penalty, but in this project we'll focus on deterrence.\n",
    "\n",
    "The key question about deterrence is:\n",
    "\n",
    "> Through our exploration, does instituting a death penalty for murder actually reduce the number of murders?\n",
    "\n",
    "You might have a strong intuition in one direction, but the evidence turns out to be surprisingly complex.  Different sides have variously argued that the death penalty has no deterrent effect and that each execution prevents 8 murders, all using statistical arguments!  We'll try to come to our own conclusion.\n",
    "\n",
    "In Lab 3, we completed the following tasks:\n",
    "\n",
    "1. In section 1, we explored the data.\n",
    "2. In section 2, we tested a null hypothesis that murder rates were equally likely to go up or down each year, as if by a flip of a fair coin.\n",
    "\n",
    "**If you do not remember lab 3, we highly recommend you go back and review it now. It will help you for this lab. **\n",
    "\n",
    "In Lab 4, we will complete the following tasks:\n",
    "\n",
    "1. In section 3, we'll apply a similar test to see whether U.S. states that suddenly ended or reinstituted the death penalty were more likely to see murder rates increase than decrease.\n",
    "2. In section 4, we'll run some more tests to support claims that we had been investigating in previous sections. \n",
    "3. In section 5, we'll try to answer our question about deterrence using a visualization rather than a formal hypothesis test.\n",
    "\n",
    "#### The data\n",
    "\n",
    "The main data source for this project comes from a [paper](http://cjlf.org/deathpenalty/DezRubShepDeterFinal.pdf) by three researchers, Dezhbakhsh, Rubin, and Shepherd.  The dataset contains rates of various violent crimes for every year 1960-2003 (44 years) in every US state.  The researchers compiled the data from the FBI's Uniform Crime Reports.\n",
    "\n",
    "Since crimes are committed by people, not states, we need to account for the number of people in each state when we're looking at state-level data.  Murder rates are calculated as follows:\n",
    "\n",
    "$$\\text{murder rate for state X in year Y} = \\frac{\\text{number of murders in state X in year Y}}{\\text{population in state X in year Y}}*100000$$\n",
    "\n",
    "(Murder is rare, so we multiply by 100,000 just to avoid dealing with tiny numbers.)"
   ]
  },
  {
   "cell_type": "code",
   "execution_count": 2,
   "metadata": {},
   "outputs": [],
   "source": [
    "murder_rates = Table.read_table('crime_rates.csv').select('State', 'Year', 'Population', 'Murder Rate')\n",
    "murder_rates.set_format(\"Population\", NumberFormatter)\n",
    "\n",
    "def diff_n(values, n):\n",
    "    return np.array(values)[n:] - np.array(values)[:-n]\n",
    "\n",
    "def two_year_changes(rates):\n",
    "    \"Return the number of increases minus the number of decreases after two years.\"\n",
    "    return np.count_nonzero(diff_n(rates, 2) > 0) - np.count_nonzero(diff_n(rates, 2) < 0)"
   ]
  },
  {
   "cell_type": "markdown",
   "metadata": {},
   "source": [
    "As a reminder of our hypothesis test, here are the null hypothesis, alternative hypothesis, and test statistic from lab 3.\n",
    "\n",
    "> **Null Hypothesis**: State murder rates increase and decrease over two-year periods as if \n",
    "\"increase\" or \"decrease\" were sampled at random from a uniform distribution, like a fair coin flip.\n",
    "\n",
    "> **Alternative Hypothesis**: State murder rates are more likely to increase over two-year periods.\n",
    "\n",
    "> **Test Statistic**: The number of increases minus the number of decreases"
   ]
  },
  {
   "cell_type": "markdown",
   "metadata": {},
   "source": [
    "## 1. The death penalty\n",
    "\n",
    "Some US states have the death penalty, and others don't, and laws have changed over time. In addition to changes in murder rates, we will also consider whether the death penalty was in force in each state and each year.\n",
    "\n",
    "Using this information, we would like to investigate how the presence of the death penalty affects the murder rate of a state."
   ]
  },
  {
   "cell_type": "markdown",
   "metadata": {},
   "source": [
    "**Question 1.1.** <br/>Describe this investigation in terms of an experiment. What population are we studying? What is the control group? What is the treatment group? What outcome are we measuring? Be precise!"
   ]
  },
  {
   "cell_type": "markdown",
   "metadata": {
    "for_assignment_type": "student",
    "manual_problem_id": "death_penalty_1"
   },
   "source": [
    "*Write your answers below.*\n",
    "\n",
    "- Population: Death penalty convicts\n",
    "- Control Group: ...\n",
    "- Treatment Group: ...\n",
    "- Outcome: ..."
   ]
  },
  {
   "cell_type": "markdown",
   "metadata": {},
   "source": [
    "**Question 1.2.** <br/>We want to know whether the death penalty *causes* a change in the murder rate.  Why is it not sufficient to compare murder rates in places and times when the death penalty was in force with places and times when it wasn't?"
   ]
  },
  {
   "cell_type": "markdown",
   "metadata": {
    "manual_problem_id": "death_penalty_2"
   },
   "source": [
    "*Write your answer here, replacing this text.*"
   ]
  },
  {
   "cell_type": "markdown",
   "metadata": {},
   "source": [
    "**Your answers for Questions 1.1 and 1.2 are not graded. To check your answers, go onto the edX discussion forum for lab 4 and check your answers with other students!**"
   ]
  },
  {
   "cell_type": "markdown",
   "metadata": {},
   "source": [
    "### A Natural Experiment\n",
    "\n",
    "In order to attempt to investigate the causal relationship between the death penalty and murder rates, we're going to take advantage of a *natural experiment*.  A natural experiment happens when something other than experimental design applies a treatment to one group and not to another (control) group, and we have some hope that the treatment and control groups don't have any other systematic differences.\n",
    "\n",
    "Our natural experiment is this: in 1972, a Supreme Court decision called *Furman v. Georgia* banned the death penalty throughout the US.  Suddenly, many states went from having the death penalty to not having the death penalty.\n",
    "\n",
    "As a first step, let's see how murder rates changed before and after the court decision.  We'll define the test as follows:\n",
    "\n",
    "> **Population:** All the states that had the death penalty before the 1972 abolition.  (There is no control group for the states that already lacked the death penalty in 1972, so we must omit them.)  This includes all US states **except** Alaska, Hawaii, Maine, Michigan, Wisconsin, and Minnesota.\n",
    "\n",
    "> **Treatment group:** The states in that population, in the year after 1972.\n",
    "\n",
    "> **Control group:** The states in that population, in the year before 1972.\n",
    "\n",
    "> **Null hypothesis:** Each state's murder rate was equally likely to be higher or lower in the treatment period than in the control period.  (Whether the murder rate increased or decreased in each state was like the flip of a fair coin.)\n",
    "\n",
    "> **Alternative hypothesis:** The murder rate was more likely to increase.\n",
    "\n",
    "Our alternative hypothesis is in keeping with our suspicion that murder rates increase when the death penalty is eliminated.  \n",
    "\n",
    "*Technical Note:* It's not clear that the murder rates were a \"sample\" from any larger population.  Again, it's useful to imagine that our data could have come out differently and to test the null hypothesis that the murder rates were equally likely to move up or down.\n",
    "\n",
    "The `death_penalty` table below describes whether each state allowed the death penalty in 1971."
   ]
  },
  {
   "cell_type": "code",
   "execution_count": 3,
   "metadata": {},
   "outputs": [
    {
     "data": {
      "text/html": [
       "<table border=\"1\" class=\"dataframe\">\n",
       "    <thead>\n",
       "        <tr>\n",
       "            <th>State</th> <th>Death Penalty</th>\n",
       "        </tr>\n",
       "    </thead>\n",
       "    <tbody>\n",
       "        <tr>\n",
       "            <td>Alabama    </td> <td>True         </td>\n",
       "        </tr>\n",
       "    </tbody>\n",
       "        <tr>\n",
       "            <td>Alaska     </td> <td>False        </td>\n",
       "        </tr>\n",
       "    </tbody>\n",
       "        <tr>\n",
       "            <td>Arizona    </td> <td>True         </td>\n",
       "        </tr>\n",
       "    </tbody>\n",
       "        <tr>\n",
       "            <td>Arkansas   </td> <td>True         </td>\n",
       "        </tr>\n",
       "    </tbody>\n",
       "        <tr>\n",
       "            <td>California </td> <td>True         </td>\n",
       "        </tr>\n",
       "    </tbody>\n",
       "        <tr>\n",
       "            <td>Colorado   </td> <td>True         </td>\n",
       "        </tr>\n",
       "    </tbody>\n",
       "        <tr>\n",
       "            <td>Connecticut</td> <td>True         </td>\n",
       "        </tr>\n",
       "    </tbody>\n",
       "        <tr>\n",
       "            <td>Delaware   </td> <td>True         </td>\n",
       "        </tr>\n",
       "    </tbody>\n",
       "        <tr>\n",
       "            <td>Florida    </td> <td>True         </td>\n",
       "        </tr>\n",
       "    </tbody>\n",
       "        <tr>\n",
       "            <td>Georgia    </td> <td>True         </td>\n",
       "        </tr>\n",
       "    </tbody>\n",
       "</table>\n",
       "<p>... (40 rows omitted)</p>"
      ],
      "text/plain": [
       "State       | Death Penalty\n",
       "Alabama     | True\n",
       "Alaska      | False\n",
       "Arizona     | True\n",
       "Arkansas    | True\n",
       "California  | True\n",
       "Colorado    | True\n",
       "Connecticut | True\n",
       "Delaware    | True\n",
       "Florida     | True\n",
       "Georgia     | True\n",
       "... (40 rows omitted)"
      ]
     },
     "execution_count": 3,
     "metadata": {},
     "output_type": "execute_result"
    }
   ],
   "source": [
    "non_death_penalty_states = make_array('Alaska', 'Hawaii', 'Maine', 'Michigan', 'Wisconsin', 'Minnesota')\n",
    "def had_death_penalty_in_1971(state):\n",
    "    \"\"\"Returns True if the argument is the name of a state that had the death penalty in 1971.\"\"\"\n",
    "    # The implementation of this function uses a bit of syntax\n",
    "    # we haven't seen before.  Just trust that it behaves as its\n",
    "    # documentation claims.\n",
    "    return state not in non_death_penalty_states\n",
    "\n",
    "states = murder_rates.group('State').select('State')\n",
    "death_penalty = states.with_column('Death Penalty', states.apply(had_death_penalty_in_1971, 0))\n",
    "death_penalty"
   ]
  },
  {
   "cell_type": "code",
   "execution_count": 4,
   "metadata": {},
   "outputs": [
    {
     "data": {
      "text/plain": [
       "44"
      ]
     },
     "execution_count": 4,
     "metadata": {},
     "output_type": "execute_result"
    }
   ],
   "source": [
    "num_death_penalty_states = death_penalty.where(\"Death Penalty\", are.equal_to(True)).num_rows\n",
    "num_death_penalty_states"
   ]
  },
  {
   "cell_type": "markdown",
   "metadata": {},
   "source": [
    "**Question 1.3.** <br/>Assign `death_penalty_murder_rates` to a table with the same columns and data as `murder_rates`, but that has only the rows for states that had the death penalty in 1971.\n",
    "\n",
    "The first 2 rows of your table should look like this:\n",
    "\n",
    "|State|Year|Population|Murder Rate|\n",
    "|-----|----|----------|-----------|\n",
    "|Alabama|1960|3,266,740|12.4|\n",
    "|Alabama|1961|3,302,000|12.9|"
   ]
  },
  {
   "cell_type": "code",
   "execution_count": 26,
   "metadata": {
    "for_assignment_type": "student"
   },
   "outputs": [
    {
     "data": {
      "text/html": [
       "<table border=\"1\" class=\"dataframe\">\n",
       "    <thead>\n",
       "        <tr>\n",
       "            <th>State</th> <th>Year</th> <th>Population</th> <th>Murder Rate</th>\n",
       "        </tr>\n",
       "    </thead>\n",
       "    <tbody>\n",
       "        <tr>\n",
       "            <td>Alabama</td> <td>1960</td> <td>3,266,740 </td> <td>12.4       </td>\n",
       "        </tr>\n",
       "    </tbody>\n",
       "        <tr>\n",
       "            <td>Alabama</td> <td>1961</td> <td>3,302,000 </td> <td>12.9       </td>\n",
       "        </tr>\n",
       "    </tbody>\n",
       "        <tr>\n",
       "            <td>Alabama</td> <td>1962</td> <td>3,358,000 </td> <td>9.4        </td>\n",
       "        </tr>\n",
       "    </tbody>\n",
       "        <tr>\n",
       "            <td>Alabama</td> <td>1963</td> <td>3,347,000 </td> <td>10.2       </td>\n",
       "        </tr>\n",
       "    </tbody>\n",
       "        <tr>\n",
       "            <td>Alabama</td> <td>1964</td> <td>3,407,000 </td> <td>9.3        </td>\n",
       "        </tr>\n",
       "    </tbody>\n",
       "        <tr>\n",
       "            <td>Alabama</td> <td>1965</td> <td>3,462,000 </td> <td>11.4       </td>\n",
       "        </tr>\n",
       "    </tbody>\n",
       "        <tr>\n",
       "            <td>Alabama</td> <td>1966</td> <td>3,517,000 </td> <td>10.9       </td>\n",
       "        </tr>\n",
       "    </tbody>\n",
       "        <tr>\n",
       "            <td>Alabama</td> <td>1967</td> <td>3,540,000 </td> <td>11.7       </td>\n",
       "        </tr>\n",
       "    </tbody>\n",
       "        <tr>\n",
       "            <td>Alabama</td> <td>1968</td> <td>3,566,000 </td> <td>11.8       </td>\n",
       "        </tr>\n",
       "    </tbody>\n",
       "        <tr>\n",
       "            <td>Alabama</td> <td>1969</td> <td>3,531,000 </td> <td>13.7       </td>\n",
       "        </tr>\n",
       "    </tbody>\n",
       "</table>\n",
       "<p>... (1926 rows omitted)</p>"
      ],
      "text/plain": [
       "State   | Year | Population | Murder Rate\n",
       "Alabama | 1960 | 3,266,740  | 12.4\n",
       "Alabama | 1961 | 3,302,000  | 12.9\n",
       "Alabama | 1962 | 3,358,000  | 9.4\n",
       "Alabama | 1963 | 3,347,000  | 10.2\n",
       "Alabama | 1964 | 3,407,000  | 9.3\n",
       "Alabama | 1965 | 3,462,000  | 11.4\n",
       "Alabama | 1966 | 3,517,000  | 10.9\n",
       "Alabama | 1967 | 3,540,000  | 11.7\n",
       "Alabama | 1968 | 3,566,000  | 11.8\n",
       "Alabama | 1969 | 3,531,000  | 13.7\n",
       "... (1926 rows omitted)"
      ]
     },
     "execution_count": 26,
     "metadata": {},
     "output_type": "execute_result"
    }
   ],
   "source": [
    "death_penalty_states = death_penalty.where(\"Death Penalty\", are.equal_to(True)).column(0)\n",
    "death_penalty_murder_rates = murder_rates.where(\"State\", death_penalty_states)\n",
    "death_penalty_murder_rates"
   ]
  },
  {
   "cell_type": "code",
   "execution_count": 27,
   "metadata": {},
   "outputs": [
    {
     "data": {
      "text/html": [
       "<pre>tests/q1_3.py: All tests passed!</pre>"
      ],
      "text/plain": [
       "<okgrade.result.TestResult at 0x7f6f5352ff60>"
      ]
     },
     "execution_count": 27,
     "metadata": {},
     "output_type": "execute_result"
    }
   ],
   "source": [
    "grade(\"tests/q1_3.py\")"
   ]
  },
  {
   "cell_type": "markdown",
   "metadata": {},
   "source": [
    "The null hypothesis doesn't specify *how* the murder rate changes; it only talks about increasing or decreasing.  So, we will use the same test statistic we defined in lab 3."
   ]
  },
  {
   "cell_type": "markdown",
   "metadata": {},
   "source": [
    "**Question 1.4.** <br/>Assign `test_stat_72` to the value of the test statistic for the years 1971 to 1973 using the states in `death_penalty_murder_rates`. As before, the test statistic is, \"the number of increases minus the number of decreases.\"\n",
    "\n",
    "*Hint:* It may be helpful to use multiple lines to work through each part of your solution. One way to proceed is to `group` using your `two_year_changes` function on a table that contains only the range of years you care about."
   ]
  },
  {
   "cell_type": "code",
   "execution_count": 64,
   "metadata": {
    "for_assignment_type": "student"
   },
   "outputs": [
    {
     "name": "stdout",
     "output_type": "stream",
     "text": [
      "Test statistic from 1971 to 1973: 22\n"
     ]
    }
   ],
   "source": [
    "test_stat_72_table = Table().with_columns(\"State\", make_array(), \"Murder Rate two_year_changes\", make_array())\n",
    "new_murder_rates = murder_rates.where(\"Year\", are.contained_in([1971,1972,1973])).where(\"State\", are.contained_in(death_penalty_murder_rates.group('State').column(0)))\n",
    "for state in new_murder_rates.group('State').column('State'):\n",
    "    test_stat_72_table.append([state, two_year_changes(new_murder_rates.where('State', state).drop('State', 'Population').column('Murder Rate'))])\n",
    "\n",
    "test_stat_72 = sum(test_stat_72_table.column(1))\n",
    "print('Test statistic from 1971 to 1973:', test_stat_72)"
   ]
  },
  {
   "cell_type": "code",
   "execution_count": 65,
   "metadata": {},
   "outputs": [
    {
     "data": {
      "text/html": [
       "<pre>tests/q1_4.py: All tests passed!</pre>"
      ],
      "text/plain": [
       "<okgrade.result.TestResult at 0x7f6f53032208>"
      ]
     },
     "execution_count": 65,
     "metadata": {},
     "output_type": "execute_result"
    }
   ],
   "source": [
    "grade(\"tests/q1_4.py\")"
   ]
  },
  {
   "cell_type": "markdown",
   "metadata": {},
   "source": [
    "**Question 1.5.** <br/>Draw an empirical histogram of the statistic under the null hypothesis by simulating the test statistic 10,000 times.\n",
    "\n",
    "*Hint:* You may find the `simulate_under_null` function from lab 3 useful."
   ]
  },
  {
   "cell_type": "code",
   "execution_count": 66,
   "metadata": {},
   "outputs": [],
   "source": [
    "def simulate_under_null(num_chances_to_change):\n",
    "    \"\"\"Simulates some number changing several times, with an equal\n",
    "    chance to increase or decrease.  Returns the value of your\n",
    "    test statistic for these simulated changes.\n",
    "    \n",
    "    num_chances_to_change is the number of times the number changes.\n",
    "    \"\"\"\n",
    "    uniform = Table().with_columns(\n",
    "        \"Change\", make_array('Increase', 'Decrease'),\n",
    "        \"Chance\", make_array(0.5,        0.5))\n",
    "    sample = uniform.sample_from_distribution('Chance', num_chances_to_change)\n",
    "    return sample.column(2).item(0) - sample.column(2).item(1)"
   ]
  },
  {
   "cell_type": "code",
   "execution_count": 73,
   "metadata": {
    "manual_problem_id": "death_penalty_5"
   },
   "outputs": [
    {
     "data": {
      "text/plain": [
       "array([-2.,  4., -4., ...,  4., -4.,  2.])"
      ]
     },
     "execution_count": 73,
     "metadata": {},
     "output_type": "execute_result"
    }
   ],
   "source": [
    "samples = make_array()\n",
    "for i in np.arange(10000):\n",
    "    samples = np.append(samples, simulate_under_null(44))\n",
    "\n",
    "samples"
   ]
  },
  {
   "cell_type": "code",
   "execution_count": 74,
   "metadata": {},
   "outputs": [
    {
     "name": "stderr",
     "output_type": "stream",
     "text": [
      "/usr/local/lib/python3.6/dist-packages/matplotlib/axes/_axes.py:6462: UserWarning: The 'normed' kwarg is deprecated, and has been replaced by the 'density' kwarg.\n",
      "  warnings.warn(\"The 'normed' kwarg is deprecated, and has been \"\n"
     ]
    },
    {
     "data": {
      "image/png": "[encoded data removed]",
      "text/plain": [
       "<Figure size 432x288 with 1 Axes>"
      ]
     },
     "metadata": {},
     "output_type": "display_data"
    }
   ],
   "source": [
    "# Run this cell to draw an empirical histogram of the \n",
    "# statistic under the null hypothesis.\n",
    "Table().with_column('Test statistic under null', samples).hist(bins=np.arange(-4, 28+2, 2))"
   ]
  },
  {
   "cell_type": "markdown",
   "metadata": {},
   "source": [
    "### Conclusion\n",
    "**Question 1.6.** <br/>Complete the analysis as follows:\n",
    "1. Compute a P-value.\n",
    "2. Using a 5% P-value cutoff, draw a conclusion about the null and alternative hypotheses.\n",
    "3. Describe your findings using simple, non-technical language. What does your analysis tell you about murder rates after the death penalty was suspended? What can you claim about causation from your statistical analysis?"
   ]
  },
  {
   "cell_type": "markdown",
   "metadata": {
    "for_assignment_type": "student",
    "manual_problem_id": "death_penalty_6"
   },
   "source": [
    "**P-value:** ...\n",
    "\n",
    "**Conclusion about the hypotheses:** ...\n",
    "\n",
    "**Findings:** ..."
   ]
  },
  {
   "cell_type": "code",
   "execution_count": 80,
   "metadata": {
    "for_assignment_type": "student"
   },
   "outputs": [
    {
     "data": {
      "text/plain": [
       "0.0006"
      ]
     },
     "execution_count": 80,
     "metadata": {},
     "output_type": "execute_result"
    }
   ],
   "source": [
    "p_val = sum(samples >= test_stat_72) / len(samples)\n",
    "p_val"
   ]
  },
  {
   "cell_type": "markdown",
   "metadata": {},
   "source": [
    "## 2. Further evidence\n",
    "\n",
    "So far, we have discovered evidence that when executions were outlawed, the murder rate increased in many more states than we would expect from random chance. We have also seen that across all states and all recent years, the murder rate goes up about as much as it goes down over two-year periods. \n",
    "\n",
    "These discoveries seem to support the claim that eliminating the death penalty increases the murder rate. Should we be convinced? Let's conduct some more tests to strengthen our claim.\n",
    "\n",
    "Conducting a test for this data set requires the following steps:\n",
    "\n",
    "1. Select a table containing murder rates for certain states and all years,\n",
    "2. Choose two years and compute the observed value of the test statistic,\n",
    "3. Simulate the test statistic under the null hypothesis that increases and decreases are drawn uniformly at random, then\n",
    "4. Compare the observed difference to the empirical distribution to compute a P-value."
   ]
  },
  {
   "cell_type": "markdown",
   "metadata": {},
   "source": [
    "This entire process can be expressed in a single function, called `run_test`. It takes the following arguments:\n",
    "\n",
    "- a table of murder `rates` for certain states, sorted by state and year like `murder_rates`\n",
    "- the year when the analysis starts (the comparison group is two years later)\n",
    "\n",
    "It prints out the observed test statistic and returns the P-value for this statistic under the null hypothesis.\n",
    "\n",
    "`run_test` works regardless of the direction of association in your alternative hypothesis by accounting for whether `observed_test_statistic` is negative or positive.\n",
    "\n",
    "Run the cell below to define `run_test`. Make sure you understand what it's doing and why."
   ]
  },
  {
   "cell_type": "code",
   "execution_count": 81,
   "metadata": {},
   "outputs": [
    {
     "name": "stdout",
     "output_type": "stream",
     "text": [
      "Test statistic 1971 to 1973 : 22\n"
     ]
    },
    {
     "data": {
      "text/plain": [
       "0.0008"
      ]
     },
     "execution_count": 81,
     "metadata": {},
     "output_type": "execute_result"
    }
   ],
   "source": [
    "def run_test(rates, start_year):\n",
    "    \"\"\"Prints out the observed test statistic and returns a P-value for this statistic under the null hypothesis\n",
    "    Parameters\n",
    "    ----------\n",
    "    rates : Table\n",
    "       A table of murder rates for certain states, sorted by state and year like murder_rates\n",
    "    start_year : int\n",
    "       The year when the analysis starts\n",
    "    \"\"\"\n",
    "    end_year = start_year + 2\n",
    "    observed_test_statistic = sum(rates.where('Year', are.between_or_equal_to(start_year, end_year)).select('State', 'Murder Rate').group('State', two_year_changes).column(1))\n",
    "    print('Test statistic', start_year, 'to', end_year, ':', observed_test_statistic)\n",
    "    num_states = rates.group('State').num_rows\n",
    "    \n",
    "    samples = []\n",
    "    for i in np.arange(5000):\n",
    "        samples.append(simulate_under_null(num_states))\n",
    "    samples = np.array(samples) # Convert from a list to an array\n",
    "    \n",
    "    if observed_test_statistic > 0:\n",
    "        return sum(samples >= observed_test_statistic) / len(samples)\n",
    "    elif observed_test_statistic < 0:\n",
    "        return sum(samples <= observed_test_statistic) / len(samples)\n",
    "    \n",
    "run_test(death_penalty_murder_rates, 1971)"
   ]
  },
  {
   "cell_type": "markdown",
   "metadata": {},
   "source": [
    "### The rest of the states\n",
    "\n",
    "We found a dramatic increase in murder rates for those states affected by the 1972 Supreme Court ruling, but what about the rest of the states? There were six states that had already outlawed execution at the time of the ruling.\n",
    "\n",
    "**Question 2.1.** Create a table called `non_death_penalty_murder_rates` with the same columns as `murder_rates` but only containing rows for the six states without the death penalty in 1971. Perform the same test on this table. **Then**, set `reject_null_2` to whether their murder rates were also more likely to increase from 1971 to 1973.\n",
    "\n",
    "*Hint:* Feel free to use additional lines for your solution."
   ]
  },
  {
   "cell_type": "code",
   "execution_count": 84,
   "metadata": {},
   "outputs": [
    {
     "data": {
      "text/html": [
       "<table border=\"1\" class=\"dataframe\">\n",
       "    <thead>\n",
       "        <tr>\n",
       "            <th>State</th> <th>Year</th> <th>Population</th> <th>Murder Rate</th>\n",
       "        </tr>\n",
       "    </thead>\n",
       "    <tbody>\n",
       "        <tr>\n",
       "            <td>Alaska  </td> <td>1971</td> <td>313,000   </td> <td>13.4       </td>\n",
       "        </tr>\n",
       "    </tbody>\n",
       "        <tr>\n",
       "            <td>Alaska  </td> <td>1972</td> <td>325,000   </td> <td>9.5        </td>\n",
       "        </tr>\n",
       "    </tbody>\n",
       "        <tr>\n",
       "            <td>Alaska  </td> <td>1973</td> <td>330,000   </td> <td>10         </td>\n",
       "        </tr>\n",
       "    </tbody>\n",
       "        <tr>\n",
       "            <td>Hawaii  </td> <td>1971</td> <td>789,000   </td> <td>5.3        </td>\n",
       "        </tr>\n",
       "    </tbody>\n",
       "        <tr>\n",
       "            <td>Hawaii  </td> <td>1972</td> <td>809,000   </td> <td>6.8        </td>\n",
       "        </tr>\n",
       "    </tbody>\n",
       "        <tr>\n",
       "            <td>Hawaii  </td> <td>1973</td> <td>832,000   </td> <td>5.3        </td>\n",
       "        </tr>\n",
       "    </tbody>\n",
       "        <tr>\n",
       "            <td>Maine   </td> <td>1971</td> <td>1,003,000 </td> <td>2          </td>\n",
       "        </tr>\n",
       "    </tbody>\n",
       "        <tr>\n",
       "            <td>Maine   </td> <td>1972</td> <td>1,029,000 </td> <td>5.3        </td>\n",
       "        </tr>\n",
       "    </tbody>\n",
       "        <tr>\n",
       "            <td>Maine   </td> <td>1973</td> <td>1,028,000 </td> <td>2.1        </td>\n",
       "        </tr>\n",
       "    </tbody>\n",
       "        <tr>\n",
       "            <td>Michigan</td> <td>1971</td> <td>8,997,000 </td> <td>10.5       </td>\n",
       "        </tr>\n",
       "    </tbody>\n",
       "</table>\n",
       "<p>... (8 rows omitted)</p>"
      ],
      "text/plain": [
       "<IPython.core.display.HTML object>"
      ]
     },
     "metadata": {},
     "output_type": "display_data"
    },
    {
     "name": "stdout",
     "output_type": "stream",
     "text": [
      "Test statistic 1971 to 1973 : 1\n"
     ]
    },
    {
     "data": {
      "text/plain": [
       "0.3414"
      ]
     },
     "execution_count": 84,
     "metadata": {},
     "output_type": "execute_result"
    }
   ],
   "source": [
    "non_death_penalty_murder_rates = murder_rates.where(\"Year\", are.contained_in([1971,1972,1973])).where(\"State\", are.contained_in(non_death_penalty_states))\n",
    "non_death_penalty_murder_rates.show(10)\n",
    "run_test(non_death_penalty_murder_rates, 1971)"
   ]
  },
  {
   "cell_type": "code",
   "execution_count": 87,
   "metadata": {},
   "outputs": [
    {
     "name": "stdout",
     "output_type": "stream",
     "text": [
      "Test statistic 1971 to 1973 : 1\n"
     ]
    },
    {
     "data": {
      "text/plain": [
       "True"
      ]
     },
     "execution_count": 87,
     "metadata": {},
     "output_type": "execute_result"
    }
   ],
   "source": [
    "reject_null = run_test(non_death_penalty_murder_rates, 1971) > 0\n",
    "reject_null"
   ]
  },
  {
   "cell_type": "code",
   "execution_count": 88,
   "metadata": {
    "scrolled": true
   },
   "outputs": [
    {
     "data": {
      "text/html": [
       "<pre>tests/q2_1.py: All tests passed!</pre>"
      ],
      "text/plain": [
       "<okgrade.result.TestResult at 0x7f6f53594cc0>"
      ]
     },
     "execution_count": 88,
     "metadata": {},
     "output_type": "execute_result"
    }
   ],
   "source": [
    "grade(\"tests/q2_1.py\")"
   ]
  },
  {
   "cell_type": "markdown",
   "metadata": {},
   "source": [
    "### The death penalty reinstated\n",
    "\n",
    "In 1976, the Supreme Court repealed its ban on the death penalty in its rulings on [a series of cases including Gregg v. Georgia](https://en.wikipedia.org/wiki/Gregg_v._Georgia), so the death penalty was reinstated where it was previously banned.  This generated a second natural experiment.  To the extent that the death penalty deters murder, reinstating it should decrease murder rates, just as banning it should increase them. Let's see what happened."
   ]
  },
  {
   "cell_type": "code",
   "execution_count": 89,
   "metadata": {},
   "outputs": [
    {
     "name": "stdout",
     "output_type": "stream",
     "text": [
      "Increases minus decreases from 1975 to 1977 (when the death penalty was reinstated) among death penalty states: -18\n",
      "Test statistic 1975 to 1977 : -18\n"
     ]
    },
    {
     "data": {
      "text/plain": [
       "0.006"
      ]
     },
     "execution_count": 89,
     "metadata": {},
     "output_type": "execute_result"
    }
   ],
   "source": [
    "print(\"Increases minus decreases from 1975 to 1977 (when the death penalty was reinstated) among death penalty states:\",\n",
    "      sum(death_penalty_murder_rates.where('Year', are.between_or_equal_to(1975, 1977))\n",
    "                                    .group('State', two_year_changes)\n",
    "                                    .column(\"Murder Rate two_year_changes\")))\n",
    "run_test(death_penalty_murder_rates, 1975)"
   ]
  },
  {
   "cell_type": "markdown",
   "metadata": {},
   "source": [
    "**Question 2.2.** Now we've analyzed states where the death penalty went away and came back, as well as states where the death penalty was outlawed all along.  What do you conclude from  the results of the tests we have conducted so far? Does all the evidence consistently point toward one conclusion, or is there a contradiction?\n",
    "\n",
    "1) Our results point toward the conclusion that the death penalty moratorium increased murder rates.\n",
    "\n",
    "2) Our results point toward the conclusion that the death penalty moratorium increased murder rates, but we have not accounted for differences over time as a confounding factor.\n",
    "\n",
    "3) Our results don't allow us to make any conclusion about murder rates and death penalties.\n",
    "\n",
    "4) Our results point toward the conclusion that the death penalty moratorium didn't influence murder rates.\n",
    "\n",
    "5) None of these conclusions are valid, or multiple of these conclusions are valid\n",
    "\n",
    "Below, set we_conclude to a single number, corresponding to your answer."
   ]
  },
  {
   "cell_type": "code",
   "execution_count": 94,
   "metadata": {},
   "outputs": [],
   "source": [
    "we_conclude = 2"
   ]
  },
  {
   "cell_type": "code",
   "execution_count": 95,
   "metadata": {},
   "outputs": [
    {
     "data": {
      "text/html": [
       "<pre>tests/q2_2.py: All tests passed!</pre>"
      ],
      "text/plain": [
       "<okgrade.result.TestResult at 0x7f6f53594c18>"
      ]
     },
     "execution_count": 95,
     "metadata": {},
     "output_type": "execute_result"
    }
   ],
   "source": [
    "grade(\"tests/q2_2.py\")"
   ]
  },
  {
   "cell_type": "markdown",
   "metadata": {},
   "source": [
    "## 3. Visualization\n",
    "\n",
    "While our analysis appears to support the conclusion that the death penalty deters murder, [a 2006 Stanford Law Review paper](http://users.nber.org/~jwolfers/papers/DeathPenalty%28SLR%29.pdf) argues the opposite: that historical murder rates do **not** provide evidence that the death penalty deters murderers.\n",
    "\n",
    "To understand their argument, we will draw a picture.  In fact, we've gone at this whole analysis rather backward; typically we should draw a picture first and ask precise statistical questions later!\n",
    "\n",
    "What plot should we draw?\n",
    "\n",
    "We know that we want to compare murder rates of states with and without the death penalty.  We know we should focus on the period around the two natural experiments of 1972 and 1976, and we want to understand the evolution of murder rates over time for those groups of states.  It might be useful to look at other time periods, so let's plot them all for good measure."
   ]
  },
  {
   "cell_type": "markdown",
   "metadata": {},
   "source": [
    "**Question 3.1.** <br/>Create a table called `average_murder_rates` with 1 row for each year in `murder_rates`.  It should have 3 columns:\n",
    "* `Year`, the year,\n",
    "* `Death penalty states`, the average murder rate of the states that had the death penalty in 1971, and\n",
    "* `No death penalty states`, the average murder rate of the other states.\n",
    "\n",
    "`average_murder_rates` should be sorted in increasing order by year.  Its first three rows should look like:\n",
    "\n",
    "|Year|Death penalty states|No death penalty states|\n",
    "|-|-|-|\n",
    "|1960| | |\n",
    "|1961| | |\n",
    "|1962| | ||\n",
    "\n",
    "*Hint 1:*  It's easiest to use `pivot`. We don't expect you to account for differences in population.\n",
    "\n",
    "*Hint 2:* You can reorder columns in a table using `.select`."
   ]
  },
  {
   "cell_type": "code",
   "execution_count": 141,
   "metadata": {
    "for_assignment_type": "student"
   },
   "outputs": [
    {
     "data": {
      "text/html": [
       "<table border=\"1\" class=\"dataframe\">\n",
       "    <thead>\n",
       "        <tr>\n",
       "            <th>Year</th> <th>Death penalty states</th> <th>No death penalty states</th>\n",
       "        </tr>\n",
       "    </thead>\n",
       "    <tbody>\n",
       "        <tr>\n",
       "            <td>1960</td> <td>5.27955             </td> <td>3.55                   </td>\n",
       "        </tr>\n",
       "    </tbody>\n",
       "        <tr>\n",
       "            <td>1961</td> <td>4.77727             </td> <td>3.68333                </td>\n",
       "        </tr>\n",
       "    </tbody>\n",
       "        <tr>\n",
       "            <td>1962</td> <td>4.61591             </td> <td>2.33333                </td>\n",
       "        </tr>\n",
       "    </tbody>\n",
       "        <tr>\n",
       "            <td>1963</td> <td>4.61364             </td> <td>2.75                   </td>\n",
       "        </tr>\n",
       "    </tbody>\n",
       "        <tr>\n",
       "            <td>1964</td> <td>4.71136             </td> <td>3.4                    </td>\n",
       "        </tr>\n",
       "    </tbody>\n",
       "        <tr>\n",
       "            <td>1965</td> <td>4.82727             </td> <td>3.18333                </td>\n",
       "        </tr>\n",
       "    </tbody>\n",
       "        <tr>\n",
       "            <td>1966</td> <td>5.43182             </td> <td>4.51667                </td>\n",
       "        </tr>\n",
       "    </tbody>\n",
       "        <tr>\n",
       "            <td>1967</td> <td>5.875               </td> <td>3.73333                </td>\n",
       "        </tr>\n",
       "    </tbody>\n",
       "        <tr>\n",
       "            <td>1968</td> <td>6.27045             </td> <td>4.73333                </td>\n",
       "        </tr>\n",
       "    </tbody>\n",
       "        <tr>\n",
       "            <td>1969</td> <td>6.50227             </td> <td>4.73333                </td>\n",
       "        </tr>\n",
       "    </tbody>\n",
       "</table>\n",
       "<p>... (34 rows omitted)</p>"
      ],
      "text/plain": [
       "Year | Death penalty states | No death penalty states\n",
       "1960 | 5.27955              | 3.55\n",
       "1961 | 4.77727              | 3.68333\n",
       "1962 | 4.61591              | 2.33333\n",
       "1963 | 4.61364              | 2.75\n",
       "1964 | 4.71136              | 3.4\n",
       "1965 | 4.82727              | 3.18333\n",
       "1966 | 5.43182              | 4.51667\n",
       "1967 | 5.875                | 3.73333\n",
       "1968 | 6.27045              | 4.73333\n",
       "1969 | 6.50227              | 4.73333\n",
       "... (34 rows omitted)"
      ]
     },
     "execution_count": 141,
     "metadata": {},
     "output_type": "execute_result"
    }
   ],
   "source": [
    "# For reference, our solution used 5 method calls\n",
    "death_penalty_murder_rates_column = death_penalty_murder_rates.drop('Population', 'State').group('Year', np.average).relabeled('Murder Rate average', 'Death penalty states')\n",
    "non_death_penalty_murder_rates_column = murder_rates.where(\"State\", are.contained_in(non_death_penalty_states)).drop('Population', 'State').group('Year', np.average).relabeled('Murder Rate average', 'No death penalty states')\n",
    "average_murder_rates = death_penalty_murder_rates_column.join('Year', non_death_penalty_murder_rates_column)\n",
    "average_murder_rates"
   ]
  },
  {
   "cell_type": "code",
   "execution_count": 142,
   "metadata": {},
   "outputs": [
    {
     "data": {
      "text/html": [
       "<pre>tests/q3_1.py: All tests passed!</pre>"
      ],
      "text/plain": [
       "<okgrade.result.TestResult at 0x7f6f50ca0908>"
      ]
     },
     "execution_count": 142,
     "metadata": {},
     "output_type": "execute_result"
    }
   ],
   "source": [
    "grade('tests/q3_1.py')"
   ]
  },
  {
   "cell_type": "markdown",
   "metadata": {},
   "source": [
    "Let's take a look at the line plot below. Are the murder rates in these two groups of states related?"
   ]
  },
  {
   "cell_type": "code",
   "execution_count": 143,
   "metadata": {},
   "outputs": [
    {
     "data": {
      "image/png": "[encoded data removed]",
      "text/plain": [
       "<Figure size 432x288 with 1 Axes>"
      ]
     },
     "metadata": {},
     "output_type": "display_data"
    }
   ],
   "source": [
    "average_murder_rates.plot('Year')"
   ]
  },
  {
   "cell_type": "markdown",
   "metadata": {},
   "source": [
    "Yes, murder rates in the two groups of states are related as we can see that they share a similar trend in the plot above."
   ]
  },
  {
   "cell_type": "markdown",
   "metadata": {},
   "source": [
    "Let's bring in another source of information: Canada."
   ]
  },
  {
   "cell_type": "code",
   "execution_count": 144,
   "metadata": {},
   "outputs": [
    {
     "data": {
      "image/png": "[encoded data removed]",
      "text/plain": [
       "<Figure size 432x288 with 1 Axes>"
      ]
     },
     "metadata": {},
     "output_type": "display_data"
    }
   ],
   "source": [
    "canada = Table.read_table('canada.csv')\n",
    "murder_rates_with_canada = average_murder_rates.join(\"Year\", canada.select(\"Year\", \"Homicide\").relabeled(\"Homicide\", \"Canada\"))\n",
    "murder_rates_with_canada.plot('Year')"
   ]
  },
  {
   "cell_type": "markdown",
   "metadata": {},
   "source": [
    "The line plot we generated above is similar to a figure from the [paper](http://users.nber.org/~jwolfers/papers/DeathPenalty%28SLR%29.pdf).\n",
    "\n",
    "<img src=\"paper_plot.png\" alt=\"Homicide Rates in the United States vs Canada.\"/>\n",
    "\n",
    "Canada has not executed a criminal since 1962. Since 1967, the only crime that can be punished by execution in Canada is the murder of on-duty law enforcement personnel. The paper states, \"The most striking finding is that the homicide rate in Canada has moved in\n",
    "virtual lockstep with the rate in the United States.\""
   ]
  },
  {
   "cell_type": "markdown",
   "metadata": {
    "manual_problem_id": "visualization_4"
   },
   "source": [
    "From the plots, we can conclude that murder rates in the two countries moved together even around points where death penalty legislation was passed. This seems to suggest that other changes over time determined murder rates in both countries, rather than one or the other's legislation. This and the plots indicate that the death penalty is not an important factor in determining the murder rateFor more information, read the [paper](http://users.nber.org/~jwolfers/papers/DeathPenalty%28SLR%29.pdf)."
   ]
  },
  {
   "cell_type": "markdown",
   "metadata": {
    "manual_problem_id": "visualization_5"
   },
   "source": [
    "**Conclusion**. The authors that created this visualization argue that even though murder rates increased when the death penalty was taken away, and decreased when it was reintroduced, these changes were probably not caused by the death penalty itself."
   ]
  },
  {
   "cell_type": "markdown",
   "metadata": {},
   "source": [
    "## Submission"
   ]
  },
  {
   "cell_type": "markdown",
   "metadata": {},
   "source": [
    "You're finished with lab 4 and the investigation between murder and captial punishment in the United States!\n",
    "\n",
    "In order to successfully submit your assignment, follow these steps...\n",
    "- **IMPORTANT** Before you do anything, **Save and Checkpoint** from the `File` menu. Please do this first before running the cell below,\n",
    "- **run all the tests and verify that they all pass** (the next cell has a shortcut for that), \n",
    "- **Review the notebook one last time, we will be grading the final state of your notebook** If you make any changes, please **Save and Checkpoint** again."
   ]
  },
  {
   "cell_type": "code",
   "execution_count": 145,
   "metadata": {},
   "outputs": [
    {
     "data": {
      "text/html": [
       "<pre>Grade is: 100%</pre>"
      ],
      "text/plain": [
       "<okgrade.result.TestResult at 0x7f6f50afcf28>"
      ]
     },
     "metadata": {},
     "output_type": "display_data"
    }
   ],
   "source": [
    "# For your convenience, you can run this cell to run all the tests at once!\n",
    "import glob\n",
    "from okgrade.notebook import grade_notebook\n",
    "if not globals().get('__OKGRADE__', False):\n",
    "    display(grade_notebook('lab04.ipynb', sorted(glob.glob('tests/q*.py'))))"
   ]
  },
  {
   "cell_type": "code",
   "execution_count": null,
   "metadata": {},
   "outputs": [],
   "source": []
  }
 ],
 "metadata": {
  "kernelspec": {
   "display_name": "Python 3",
   "language": "python",
   "name": "python3"
  },
  "language_info": {
   "codemirror_mode": {
    "name": "ipython",
    "version": 3
   },
   "file_extension": ".py",
   "mimetype": "text/x-python",
   "name": "python",
   "nbconvert_exporter": "python",
   "pygments_lexer": "ipython3",
   "version": "3.6.5"
  }
 },
 "nbformat": 4,
 "nbformat_minor": 1
}
